{
 "cells": [
  {
   "cell_type": "code",
   "execution_count": 7,
   "metadata": {},
   "outputs": [
    {
     "name": "stdout",
     "output_type": "stream",
     "text": [
      "¡Alerta! ¡Un asteroide se aproxima a velocidades peligrosas!\n"
     ]
    }
   ],
   "source": [
    "# Para este ejercicio, escribirás una lógica condicional que imprima una advertencia si un asteroide se acerca a la Tierra demasiado rápido. \n",
    "# La velocidad del asteroide varía dependiendo de lo cerca que esté del sol, y cualquier velocidad superior a 25 kilómetros por segundo (km/s) merece una advertencia.\n",
    "# Un asteroide se acerca, y viaja a una velocidad de 49 km/s.\n",
    "\n",
    "# # Añadir el código necesario para crear una variable que guarde la velocidad del asteroide.\n",
    "# # Escribe una expresión de prueba para calcular si necesita una advertencia.\n",
    "# # Agregue las instrucciones que se ejecutarán si la expresión de prueba es true o false.\n",
    "\n",
    "asteroide = 49\n",
    "if asteroide > 25:\n",
    "    print('¡Alerta! ¡Un asteroide se aproxima a velocidades peligrosas!')\n",
    "else:\n",
    "    print('¡Parece que no hay peligro!')"
   ]
  },
  {
   "cell_type": "code",
   "execution_count": 25,
   "metadata": {},
   "outputs": [
    {
     "name": "stdout",
     "output_type": "stream",
     "text": [
      "¡Hey, aquí no hay nada que ver!\n"
     ]
    }
   ],
   "source": [
    "# Si un asteroide entra en la atmósfera de la Tierra a una velocidad mayor o igual a 20 km/s, a veces produce un rayo de luz que se puede ver desde la Tierra. \n",
    "# Escribe la lógica condicional que usa declaraciones if, else, y elif para alertar a las personas de todo el mundo que deben buscar un asteroide en el cielo. \n",
    "# ¡Hay uno que se dirige a la tierra ahora a una velocidad de 19 km/s!\n",
    "\n",
    "# # Agrega el código para crear una variable para un asteroide que viaja a 19 km/s\n",
    "# # Escribe varias expresiones de prueba para determinar si puedes ver el rayo de luz desde la tierra\n",
    "# # Agrega las instrucciones que se ejecutarán si las expresiones de prueba son True o False\n",
    "\n",
    "asteroide = 19\n",
    "if asteroide > 20:\n",
    "    print('¡Es normal lo que estas viendo, solo un destello!')\n",
    "elif asteroide == 20:\n",
    "    print('¡Hay un destello en el cielo, pide un deseo!')\n",
    "else:\n",
    "    print('¡Hey, aquí no hay nada que ver!')"
   ]
  },
  {
   "cell_type": "code",
   "execution_count": 29,
   "metadata": {},
   "outputs": [
    {
     "name": "stdout",
     "output_type": "stream",
     "text": [
      "¡Hay un destello en el cielo, pide un deseo!\n"
     ]
    }
   ],
   "source": [
    "# Los asteroides de menos de 25 metros en su dimensión más grande probablemente se quemarán a medida que entren en la atmósfera de la Tierra.\n",
    "# Si una pieza de un asteroide que es más grande que 25 metros pero más pequeña que 1000 metros golpeara la Tierra, causaría mucho daño.\n",
    "# También discutimos en el ejercicio anterior que:\n",
    "# La velocidad del asteroide varía en función de lo cerca que esté del sol, y cualquier velocidad superior a 25 kilómetros por segundo (km/s) merece una advertencia.\n",
    "# Si un asteroide entra en la atmósfera de la Tierra a una velocidad mayor o igual a 20 km/s, a veces produce un rayo de luz que se puede ver desde la Tierra.\n",
    "\n",
    "# # Agrega el código para crear nuevas variables para la velocidad y el tamaño del asteroide\n",
    "# # Para probar el código, prueba con varias velocidades y tamaños\n",
    "# # Escribe varias expresiones de prueba o combinaciones de expresiones de prueba para determinar qué mensaje se debe enviar a Tierra.\n",
    "\n",
    "velocidad_asteroide = 26\n",
    "tamano_asteroide = 24\n",
    "if velocidad_asteroide > 25 and tamano_asteroide > 25:\n",
    "    print('¡Alerta! ¡Un asteroide se aproxima y causaria mucho daño!')\n",
    "elif velocidad_asteroide >= 20:\n",
    "    print('¡Hay un destello en el cielo, pide un deseo!')\n",
    "elif velocidad_asteroide < 25:\n",
    "    print('Hey, aquí no hay nada que ver :)')\n",
    "else:\n",
    "    print('Hey, aquí no hay nada que ver :)')"
   ]
  }
 ],
 "metadata": {
  "interpreter": {
   "hash": "d471bbe5db562e74052c3001c3f8e27d9d7b7de2320715d7bd4b1a5e8962fcb6"
  },
  "kernelspec": {
   "display_name": "Python 3.10.2 64-bit (windows store)",
   "language": "python",
   "name": "python3"
  },
  "language_info": {
   "codemirror_mode": {
    "name": "ipython",
    "version": 3
   },
   "file_extension": ".py",
   "mimetype": "text/x-python",
   "name": "python",
   "nbconvert_exporter": "python",
   "pygments_lexer": "ipython3",
   "version": "3.10.2"
  },
  "orig_nbformat": 4
 },
 "nbformat": 4,
 "nbformat_minor": 2
}
